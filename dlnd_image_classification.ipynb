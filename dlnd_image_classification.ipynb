{
 "cells": [
  {
   "cell_type": "markdown",
   "metadata": {
    "collapsed": true
   },
   "source": [
    "# Image Classification\n",
    "In this project, you'll classify images from the [CIFAR-10 dataset](https://www.cs.toronto.edu/~kriz/cifar.html).  The dataset consists of airplanes, dogs, cats, and other objects. You'll preprocess the images, then train a convolutional neural network on all the samples. The images need to be normalized and the labels need to be one-hot encoded.  You'll get to apply what you learned and build a convolutional, max pooling, dropout, and fully connected layers.  At the end, you'll get to see your neural network's predictions on the sample images.\n",
    "## Get the Data\n",
    "Run the following cell to download the [CIFAR-10 dataset for python](https://www.cs.toronto.edu/~kriz/cifar-10-python.tar.gz)."
   ]
  },
  {
   "cell_type": "code",
   "execution_count": 1,
   "metadata": {},
   "outputs": [
    {
     "name": "stderr",
     "output_type": "stream",
     "text": [
      "CIFAR-10 Dataset: 171MB [00:47, 3.63MB/s]                              \n"
     ]
    },
    {
     "name": "stdout",
     "output_type": "stream",
     "text": [
      "All files found!\n"
     ]
    }
   ],
   "source": [
    "\"\"\"\n",
    "DON'T MODIFY ANYTHING IN THIS CELL THAT IS BELOW THIS LINE\n",
    "\"\"\"\n",
    "from urllib.request import urlretrieve\n",
    "from os.path import isfile, isdir\n",
    "from tqdm import tqdm\n",
    "import problem_unittests as tests\n",
    "import tarfile\n",
    "\n",
    "cifar10_dataset_folder_path = 'cifar-10-batches-py'\n",
    "\n",
    "# Use Floyd's cifar-10 dataset if present\n",
    "floyd_cifar10_location = '/input/cifar-10/python.tar.gz'\n",
    "if isfile(floyd_cifar10_location):\n",
    "    tar_gz_path = floyd_cifar10_location\n",
    "else:\n",
    "    tar_gz_path = 'cifar-10-python.tar.gz'\n",
    "\n",
    "class DLProgress(tqdm):\n",
    "    last_block = 0\n",
    "\n",
    "    def hook(self, block_num=1, block_size=1, total_size=None):\n",
    "        self.total = total_size\n",
    "        self.update((block_num - self.last_block) * block_size)\n",
    "        self.last_block = block_num\n",
    "\n",
    "if not isfile(tar_gz_path):\n",
    "    with DLProgress(unit='B', unit_scale=True, miniters=1, desc='CIFAR-10 Dataset') as pbar:\n",
    "        urlretrieve(\n",
    "            'https://www.cs.toronto.edu/~kriz/cifar-10-python.tar.gz',\n",
    "            tar_gz_path,\n",
    "            pbar.hook)\n",
    "\n",
    "if not isdir(cifar10_dataset_folder_path):\n",
    "    with tarfile.open(tar_gz_path) as tar:\n",
    "        tar.extractall()\n",
    "        tar.close()\n",
    "\n",
    "\n",
    "tests.test_folder_path(cifar10_dataset_folder_path)"
   ]
  },
  {
   "cell_type": "markdown",
   "metadata": {},
   "source": [
    "## Explore the Data\n",
    "The dataset is broken into batches to prevent your machine from running out of memory.  The CIFAR-10 dataset consists of 5 batches, named `data_batch_1`, `data_batch_2`, etc.. Each batch contains the labels and images that are one of the following:\n",
    "* airplane\n",
    "* automobile\n",
    "* bird\n",
    "* cat\n",
    "* deer\n",
    "* dog\n",
    "* frog\n",
    "* horse\n",
    "* ship\n",
    "* truck\n",
    "\n",
    "Understanding a dataset is part of making predictions on the data.  Play around with the code cell below by changing the `batch_id` and `sample_id`. The `batch_id` is the id for a batch (1-5). The `sample_id` is the id for a image and label pair in the batch.\n",
    "\n",
    "Ask yourself \"What are all possible labels?\", \"What is the range of values for the image data?\", \"Are the labels in order or random?\".  Answers to questions like these will help you preprocess the data and end up with better predictions."
   ]
  },
  {
   "cell_type": "code",
   "execution_count": 10,
   "metadata": {},
   "outputs": [
    {
     "name": "stdout",
     "output_type": "stream",
     "text": [
      "\n",
      "Stats of batch 5:\n",
      "Samples: 10000\n",
      "Label Counts: {0: 1014, 1: 1014, 2: 952, 3: 1016, 4: 997, 5: 1025, 6: 980, 7: 977, 8: 1003, 9: 1022}\n",
      "First 20 Labels: [1, 8, 5, 1, 5, 7, 4, 3, 8, 2, 7, 2, 0, 1, 5, 9, 6, 2, 0, 8]\n",
      "\n",
      "Example of Image 9000:\n",
      "Image - Min Value: 9 Max Value: 242\n",
      "Image - Shape: (32, 32, 3)\n",
      "Label - Label Id: 8 Name: ship\n"
     ]
    },
    {
     "data": {
      "image/png": "[encoded data removed]",
      "text/plain": [
       "<matplotlib.figure.Figure at 0x125825160>"
      ]
     },
     "metadata": {
      "image/png": {
       "height": 250,
       "width": 253
      }
     },
     "output_type": "display_data"
    }
   ],
   "source": [
    "%matplotlib inline\n",
    "%config InlineBackend.figure_format = 'retina'\n",
    "\n",
    "import helper\n",
    "import numpy as np\n",
    "\n",
    "# Explore the dataset\n",
    "batch_id = 5\n",
    "sample_id = 9000\n",
    "helper.display_stats(cifar10_dataset_folder_path, batch_id, sample_id)"
   ]
  },
  {
   "cell_type": "markdown",
   "metadata": {},
   "source": [
    "## Implement Preprocess Functions\n",
    "### Normalize\n",
    "In the cell below, implement the `normalize` function to take in image data, `x`, and return it as a normalized Numpy array. The values should be in the range of 0 to 1, inclusive.  The return object should be the same shape as `x`."
   ]
  },
  {
   "cell_type": "code",
   "execution_count": 11,
   "metadata": {},
   "outputs": [
    {
     "name": "stdout",
     "output_type": "stream",
     "text": [
      "Tests Passed\n"
     ]
    }
   ],
   "source": [
    "def normalize(x):\n",
    "    \"\"\"\n",
    "    Normalize a list of sample image data in the range of 0 to 1\n",
    "    : x: List of image data.  The image shape is (32, 32, 3)\n",
    "    : return: Numpy array of normalize data\n",
    "    \"\"\"\n",
    "    return np.array((x-np.min(x))/(np.max(x)-np.min(x)))\n",
    "\n",
    "\n",
    "\"\"\"\n",
    "DON'T MODIFY ANYTHING IN THIS CELL THAT IS BELOW THIS LINE\n",
    "\"\"\"\n",
    "tests.test_normalize(normalize)"
   ]
  },
  {
   "cell_type": "markdown",
   "metadata": {},
   "source": [
    "### One-hot encode\n",
    "Just like the previous code cell, you'll be implementing a function for preprocessing.  This time, you'll implement the `one_hot_encode` function. The input, `x`, are a list of labels.  Implement the function to return the list of labels as One-Hot encoded Numpy array.  The possible values for labels are 0 to 9. The one-hot encoding function should return the same encoding for each value between each call to `one_hot_encode`.  Make sure to save the map of encodings outside the function.\n",
    "\n",
    "Hint: Don't reinvent the wheel."
   ]
  },
  {
   "cell_type": "code",
   "execution_count": 12,
   "metadata": {},
   "outputs": [
    {
     "name": "stdout",
     "output_type": "stream",
     "text": [
      "Tests Passed\n"
     ]
    }
   ],
   "source": [
    "def one_hot_encode(x):\n",
    "    \"\"\"\n",
    "    One hot encode a list of sample labels. Return a one-hot encoded vector for each label.\n",
    "    : x: List of sample Labels\n",
    "    : return: Numpy array of one-hot encoded labels\n",
    "    \"\"\"\n",
    "    one_hot_label =10\n",
    "    one_hot_target = np.array(x)\n",
    "    one_hot_encode = np.eye(one_hot_label)[one_hot_target]\n",
    "    return one_hot_encode\n",
    "\n",
    "\n",
    "\"\"\"\n",
    "DON'T MODIFY ANYTHING IN THIS CELL THAT IS BELOW THIS LINE\n",
    "\"\"\"\n",
    "tests.test_one_hot_encode(one_hot_encode)"
   ]
  },
  {
   "cell_type": "markdown",
   "metadata": {},
   "source": [
    "### Randomize Data\n",
    "As you saw from exploring the data above, the order of the samples are randomized.  It doesn't hurt to randomize it again, but you don't need to for this dataset."
   ]
  },
  {
   "cell_type": "markdown",
   "metadata": {},
   "source": [
    "## Preprocess all the data and save it\n",
    "Running the code cell below will preprocess all the CIFAR-10 data and save it to file. The code below also uses 10% of the training data for validation."
   ]
  },
  {
   "cell_type": "code",
   "execution_count": 13,
   "metadata": {
    "collapsed": true
   },
   "outputs": [],
   "source": [
    "\"\"\"\n",
    "DON'T MODIFY ANYTHING IN THIS CELL\n",
    "\"\"\"\n",
    "# Preprocess Training, Validation, and Testing Data\n",
    "helper.preprocess_and_save_data(cifar10_dataset_folder_path, normalize, one_hot_encode)"
   ]
  },
  {
   "cell_type": "markdown",
   "metadata": {},
   "source": [
    "# Check Point\n",
    "This is your first checkpoint.  If you ever decide to come back to this notebook or have to restart the notebook, you can start from here.  The preprocessed data has been saved to disk."
   ]
  },
  {
   "cell_type": "code",
   "execution_count": 14,
   "metadata": {
    "collapsed": true
   },
   "outputs": [],
   "source": [
    "\"\"\"\n",
    "DON'T MODIFY ANYTHING IN THIS CELL\n",
    "\"\"\"\n",
    "import pickle\n",
    "import problem_unittests as tests\n",
    "import helper\n",
    "\n",
    "# Load the Preprocessed Validation data\n",
    "valid_features, valid_labels = pickle.load(open('preprocess_validation.p', mode='rb'))"
   ]
  },
  {
   "cell_type": "markdown",
   "metadata": {},
   "source": [
    "## Build the network\n",
    "For the neural network, you'll build each layer into a function.  Most of the code you've seen has been outside of functions. To test your code more thoroughly, we require that you put each layer in a function.  This allows us to give you better feedback and test for simple mistakes using our unittests before you submit your project.\n",
    "\n",
    ">**Note:** If you're finding it hard to dedicate enough time for this course each week, we've provided a small shortcut to this part of the project. In the next couple of problems, you'll have the option to use classes from the [TensorFlow Layers](https://www.tensorflow.org/api_docs/python/tf/layers) or [TensorFlow Layers (contrib)](https://www.tensorflow.org/api_guides/python/contrib.layers) packages to build each layer, except the layers you build in the \"Convolutional and Max Pooling Layer\" section.  TF Layers is similar to Keras's and TFLearn's abstraction to layers, so it's easy to pickup.\n",
    "\n",
    ">However, if you would like to get the most out of this course, try to solve all the problems _without_ using anything from the TF Layers packages. You **can** still use classes from other packages that happen to have the same name as ones you find in TF Layers! For example, instead of using the TF Layers version of the `conv2d` class, [tf.layers.conv2d](https://www.tensorflow.org/api_docs/python/tf/layers/conv2d), you would want to use the TF Neural Network version of `conv2d`, [tf.nn.conv2d](https://www.tensorflow.org/api_docs/python/tf/nn/conv2d). \n",
    "\n",
    "Let's begin!\n",
    "\n",
    "### Input\n",
    "The neural network needs to read the image data, one-hot encoded labels, and dropout keep probability. Implement the following functions\n",
    "* Implement `neural_net_image_input`\n",
    " * Return a [TF Placeholder](https://www.tensorflow.org/api_docs/python/tf/placeholder)\n",
    " * Set the shape using `image_shape` with batch size set to `None`.\n",
    " * Name the TensorFlow placeholder \"x\" using the TensorFlow `name` parameter in the [TF Placeholder](https://www.tensorflow.org/api_docs/python/tf/placeholder).\n",
    "* Implement `neural_net_label_input`\n",
    " * Return a [TF Placeholder](https://www.tensorflow.org/api_docs/python/tf/placeholder)\n",
    " * Set the shape using `n_classes` with batch size set to `None`.\n",
    " * Name the TensorFlow placeholder \"y\" using the TensorFlow `name` parameter in the [TF Placeholder](https://www.tensorflow.org/api_docs/python/tf/placeholder).\n",
    "* Implement `neural_net_keep_prob_input`\n",
    " * Return a [TF Placeholder](https://www.tensorflow.org/api_docs/python/tf/placeholder) for dropout keep probability.\n",
    " * Name the TensorFlow placeholder \"keep_prob\" using the TensorFlow `name` parameter in the [TF Placeholder](https://www.tensorflow.org/api_docs/python/tf/placeholder).\n",
    "\n",
    "These names will be used at the end of the project to load your saved model.\n",
    "\n",
    "Note: `None` for shapes in TensorFlow allow for a dynamic size."
   ]
  },
  {
   "cell_type": "code",
   "execution_count": 16,
   "metadata": {},
   "outputs": [
    {
     "name": "stdout",
     "output_type": "stream",
     "text": [
      "Image Input Tests Passed.\n",
      "Label Input Tests Passed.\n",
      "Keep Prob Tests Passed.\n"
     ]
    }
   ],
   "source": [
    "import tensorflow as tf\n",
    "\n",
    "def neural_net_image_input(image_shape):\n",
    "    \"\"\"\n",
    "    Return a Tensor for a batch of image input\n",
    "    : image_shape: Shape of the images\n",
    "    : return: Tensor for image input.\n",
    "    \"\"\"\n",
    "    return tf.placeholder(tf.float32, shape = [None, *image_shape], name=\"x\")\n",
    "\n",
    "def neural_net_label_input(n_classes):\n",
    "    \"\"\"\n",
    "    Return a Tensor for a batch of label input\n",
    "    : n_classes: Number of classes\n",
    "    : return: Tensor for label input.\n",
    "    \"\"\"\n",
    "    return tf.placeholder(tf.float32, shape = [None, n_classes], name=\"y\")\n",
    "\n",
    "\n",
    "def neural_net_keep_prob_input():\n",
    "    \"\"\"\n",
    "    Return a Tensor for keep probability\n",
    "    : return: Tensor for keep probability.\n",
    "    \"\"\"\n",
    "    return tf.placeholder(tf.float32, name=\"keep_prob\")\n",
    "\n",
    "\n",
    "\"\"\"\n",
    "DON'T MODIFY ANYTHING IN THIS CELL THAT IS BELOW THIS LINE\n",
    "\"\"\"\n",
    "tf.reset_default_graph()\n",
    "tests.test_nn_image_inputs(neural_net_image_input)\n",
    "tests.test_nn_label_inputs(neural_net_label_input)\n",
    "tests.test_nn_keep_prob_inputs(neural_net_keep_prob_input)"
   ]
  },
  {
   "cell_type": "markdown",
   "metadata": {},
   "source": [
    "### Convolution and Max Pooling Layer\n",
    "Convolution layers have a lot of success with images. For this code cell, you should implement the function `conv2d_maxpool` to apply convolution then max pooling:\n",
    "* Create the weight and bias using `conv_ksize`, `conv_num_outputs` and the shape of `x_tensor`.\n",
    "* Apply a convolution to `x_tensor` using weight and `conv_strides`.\n",
    " * We recommend you use same padding, but you're welcome to use any padding.\n",
    "* Add bias\n",
    "* Add a nonlinear activation to the convolution.\n",
    "* Apply Max Pooling using `pool_ksize` and `pool_strides`.\n",
    " * We recommend you use same padding, but you're welcome to use any padding.\n",
    "\n",
    "**Note:** You **can't** use [TensorFlow Layers](https://www.tensorflow.org/api_docs/python/tf/layers) or [TensorFlow Layers (contrib)](https://www.tensorflow.org/api_guides/python/contrib.layers) for **this** layer, but you can still use TensorFlow's [Neural Network](https://www.tensorflow.org/api_docs/python/tf/nn) package. You may still use the shortcut option for all the **other** layers."
   ]
  },
  {
   "cell_type": "code",
   "execution_count": 91,
   "metadata": {},
   "outputs": [
    {
     "name": "stdout",
     "output_type": "stream",
     "text": [
      "Tests Passed\n"
     ]
    }
   ],
   "source": [
    "def conv2d_maxpool(x_tensor, conv_num_outputs, conv_ksize, conv_strides, pool_ksize, pool_strides):\n",
    "    \"\"\"\n",
    "    Apply convolution then max pooling to x_tensor\n",
    "    :param x_tensor: TensorFlow Tensor\n",
    "    :param conv_num_outputs: Number of outputs for the convolutional layer\n",
    "    :param conv_ksize: kernal size 2-D Tuple for the convolutional layer\n",
    "    :param conv_strides: Stride 2-D Tuple for convolution\n",
    "    :param pool_ksize: kernal size 2-D Tuple for pool\n",
    "    :param pool_strides: Stride 2-D Tuple for pool\n",
    "    : return: A tensor that represents convolution and max pooling of x_tensor\n",
    "    \"\"\"\n",
    "    \n",
    "    \n",
    "    depth = x_tensor.get_shape().as_list()[3]\n",
    "    \n",
    "    \n",
    "    #Weight and bias\n",
    "    filter_weights = tf.Variable(tf.truncated_normal([*conv_ksize, depth, conv_num_outputs], mean=0.0,stddev=0.1 ))\n",
    "  \n",
    "    \n",
    "    filter_bias = tf.Variable(tf.zeros(conv_num_outputs))\n",
    "    \n",
    "   \n",
    "    layer_1 = tf.nn.conv2d(x_tensor, filter_weights, strides = [1,conv_strides[0],conv_strides[1],1],padding = 'SAME')\n",
    "    \n",
    "    layer_1_bias = tf.nn.bias_add(layer_1, filter_bias)\n",
    "    \n",
    "    layer_1_act = tf.nn.relu(layer_1_bias)\n",
    "    \n",
    "    layer_2 = tf.nn.max_pool(layer_1_act, ksize = [1, pool_ksize[0],pool_ksize[1],1], strides = [1, pool_strides[0], pool_strides[1], 1], padding = 'SAME' )\n",
    "\n",
    "    return layer_2\n",
    "    \n",
    "    \n",
    "    \n",
    "\"\"\"\n",
    "DON'T MODIFY ANYTHING IN THIS CELL THAT IS BELOW THIS LINE\n",
    "\"\"\"\n",
    "tests.test_con_pool(conv2d_maxpool)"
   ]
  },
  {
   "cell_type": "markdown",
   "metadata": {},
   "source": [
    "### Flatten Layer\n",
    "Implement the `flatten` function to change the dimension of `x_tensor` from a 4-D tensor to a 2-D tensor.  The output should be the shape (*Batch Size*, *Flattened Image Size*). Shortcut option: you can use classes from the [TensorFlow Layers](https://www.tensorflow.org/api_docs/python/tf/layers) or [TensorFlow Layers (contrib)](https://www.tensorflow.org/api_guides/python/contrib.layers) packages for this layer. For more of a challenge, only use other TensorFlow packages."
   ]
  },
  {
   "cell_type": "code",
   "execution_count": 92,
   "metadata": {},
   "outputs": [
    {
     "name": "stdout",
     "output_type": "stream",
     "text": [
      "Tests Passed\n"
     ]
    }
   ],
   "source": [
    "def flatten(x_tensor):\n",
    "    \"\"\"\n",
    "    Flatten x_tensor to (Batch Size, Flattened Image Size)\n",
    "    : x_tensor: A tensor of size (Batch Size, ...), where ... are the image dimensions.\n",
    "    : return: A tensor of size (Batch Size, Flattened Image Size).\n",
    "    \"\"\"\n",
    "    batch_size = x_tensor.get_shape().as_list()[0] \n",
    "    \n",
    "    width = x_tensor.get_shape().as_list()[1] \n",
    "   \n",
    "    height = x_tensor.get_shape().as_list()[2] \n",
    "\n",
    "    depth = x_tensor.get_shape().as_list()[3] \n",
    "    \n",
    "    #print(x_tensor.get_shape()[:])\n",
    "    \n",
    "    flatten_image = width*height*depth\n",
    "    \n",
    "    return tf.reshape(x_tensor, [-1, flatten_image])\n",
    "\n",
    "\n",
    "\"\"\"\n",
    "DON'T MODIFY ANYTHING IN THIS CELL THAT IS BELOW THIS LINE\n",
    "\"\"\"\n",
    "tests.test_flatten(flatten)"
   ]
  },
  {
   "cell_type": "markdown",
   "metadata": {},
   "source": [
    "### Fully-Connected Layer\n",
    "Implement the `fully_conn` function to apply a fully connected layer to `x_tensor` with the shape (*Batch Size*, *num_outputs*). Shortcut option: you can use classes from the [TensorFlow Layers](https://www.tensorflow.org/api_docs/python/tf/layers) or [TensorFlow Layers (contrib)](https://www.tensorflow.org/api_guides/python/contrib.layers) packages for this layer. For more of a challenge, only use other TensorFlow packages."
   ]
  },
  {
   "cell_type": "code",
   "execution_count": 160,
   "metadata": {},
   "outputs": [
    {
     "name": "stdout",
     "output_type": "stream",
     "text": [
      "Tensor(\"Relu_9:0\", shape=(?, 40), dtype=float32)\n",
      "Tests Passed\n"
     ]
    }
   ],
   "source": [
    "def fully_conn(x_tensor, num_outputs):\n",
    "    \"\"\"\n",
    "    Apply a fully connected layer to x_tensor using weight and bias\n",
    "    : x_tensor: A 2-D tensor where the first dimension is batch size.\n",
    "    : num_outputs: The number of output that the new tensor should be.\n",
    "    : return: A 2-D tensor where the second dimension is num_outputs.\n",
    "    \"\"\"\n",
    "    batch_size = x_tensor.get_shape().as_list()[0]\n",
    "    \n",
    "    inputs = x_tensor.get_shape().as_list()[1]\n",
    "    \n",
    "    #print(x_tensor.get_shape()[:])\n",
    "    \n",
    "    weight = tf.Variable(tf.truncated_normal([inputs, num_outputs], mean=0.01,stddev=0.1))\n",
    "    \n",
    "    bias = tf.Variable(tf.zeros(num_outputs))\n",
    "     \n",
    "    full_conn = tf.add(tf.matmul(x_tensor, weight), bias)\n",
    "    \n",
    "    full_conn = tf.nn.relu(full_conn)\n",
    "    \n",
    "    print(full_conn)\n",
    "    \n",
    "    return full_conn\n",
    "\n",
    "\n",
    "\"\"\"\n",
    "DON'T MODIFY ANYTHING IN THIS CELL THAT IS BELOW THIS LINE\n",
    "\"\"\"\n",
    "tests.test_fully_conn(fully_conn)"
   ]
  },
  {
   "cell_type": "markdown",
   "metadata": {},
   "source": [
    "### Output Layer\n",
    "Implement the `output` function to apply a fully connected layer to `x_tensor` with the shape (*Batch Size*, *num_outputs*). Shortcut option: you can use classes from the [TensorFlow Layers](https://www.tensorflow.org/api_docs/python/tf/layers) or [TensorFlow Layers (contrib)](https://www.tensorflow.org/api_guides/python/contrib.layers) packages for this layer. For more of a challenge, only use other TensorFlow packages.\n",
    "\n",
    "**Note:** Activation, softmax, or cross entropy should **not** be applied to this."
   ]
  },
  {
   "cell_type": "code",
   "execution_count": 161,
   "metadata": {},
   "outputs": [
    {
     "name": "stdout",
     "output_type": "stream",
     "text": [
      "Tests Passed\n"
     ]
    }
   ],
   "source": [
    "def output(x_tensor, num_outputs):\n",
    "    \"\"\"\n",
    "    Apply a output layer to x_tensor using weight and bias\n",
    "    : x_tensor: A 2-D tensor where the first dimension is batch size.\n",
    "    : num_outputs: The number of output that the new tensor should be.\n",
    "    : return: A 2-D tensor where the second dimension is num_outputs.\n",
    "    \"\"\"\n",
    "     \n",
    "    batch_size = x_tensor.get_shape().as_list()[0]\n",
    "    \n",
    "    inputs = x_tensor.get_shape().as_list()[1]\n",
    "    \n",
    "    #print(x_tensor.get_shape()[:])\n",
    "    \n",
    "    weight = tf.Variable(tf.truncated_normal([inputs, num_outputs]))\n",
    "    \n",
    "    bias = tf.Variable(tf.zeros(num_outputs))\n",
    "     \n",
    "    return tf.add(tf.matmul(x_tensor, weight), bias)\n",
    "\n",
    "\n",
    "\"\"\"\n",
    "DON'T MODIFY ANYTHING IN THIS CELL THAT IS BELOW THIS LINE\n",
    "\"\"\"\n",
    "tests.test_output(output)"
   ]
  },
  {
   "cell_type": "markdown",
   "metadata": {},
   "source": [
    "### Create Convolutional Model\n",
    "Implement the function `conv_net` to create a convolutional neural network model. The function takes in a batch of images, `x`, and outputs logits.  Use the layers you created above to create this model:\n",
    "\n",
    "* Apply 1, 2, or 3 Convolution and Max Pool layers\n",
    "* Apply a Flatten Layer\n",
    "* Apply 1, 2, or 3 Fully Connected Layers\n",
    "* Apply an Output Layer\n",
    "* Return the output\n",
    "* Apply [TensorFlow's Dropout](https://www.tensorflow.org/api_docs/python/tf/nn/dropout) to one or more layers in the model using `keep_prob`. "
   ]
  },
  {
   "cell_type": "code",
   "execution_count": 162,
   "metadata": {},
   "outputs": [
    {
     "name": "stdout",
     "output_type": "stream",
     "text": [
      "inside my_net\n",
      "Tensor(\"x:0\", shape=(?, 32, 32, 3), dtype=float32)\n",
      "x.shape\n",
      "(?, 32, 32, 3)\n",
      "my_net\n",
      "Tensor(\"MaxPool_3:0\", shape=(?, 1, 1, 45), dtype=float32)\n",
      "Tensor(\"Relu_4:0\", shape=(?, 100), dtype=float32)\n",
      "Tensor(\"Relu_5:0\", shape=(?, 10), dtype=float32)\n",
      "inside my_net\n",
      "Tensor(\"Placeholder:0\", shape=(?, 32, 32, 3), dtype=float32)\n",
      "x.shape\n",
      "(?, 32, 32, 3)\n",
      "my_net\n",
      "Tensor(\"MaxPool_7:0\", shape=(?, 1, 1, 45), dtype=float32)\n",
      "Tensor(\"Relu_10:0\", shape=(?, 100), dtype=float32)\n",
      "Tensor(\"Relu_11:0\", shape=(?, 10), dtype=float32)\n",
      "Neural Network Built!\n"
     ]
    }
   ],
   "source": [
    "def conv_net(x, keep_prob):\n",
    "    \"\"\"\n",
    "    Create a convolutional neural network model\n",
    "    : x: Placeholder tensor that holds image data.\n",
    "    : keep_prob: Placeholder tensor that hold dropout keep probability.\n",
    "    : return: Tensor that represents logits\n",
    "    \"\"\"\n",
    "    # TODO: Apply 1, 2, or 3 Convolution and Max Pool layers\n",
    "    #    Play around with different number of outputs, kernel size and stride\n",
    "    # Function Definition from Above:\n",
    "    #    conv2d_maxpool(x_tensor, conv_num_outputs, conv_ksize, conv_strides, pool_ksize, pool_strides)\n",
    "    \n",
    "\n",
    "    \n",
    "    \n",
    "    print('inside my_net')\n",
    "   # print('x')\n",
    "    print(x)\n",
    "    print('x.shape')\n",
    "    print(x.shape)\n",
    "    \n",
    "    \n",
    "    \n",
    "    \n",
    "\n",
    "    x_tensor = x\n",
    "    \n",
    "    \n",
    "    num_outputs = 10\n",
    "    \n",
    "    conv_num_outputs = 8\n",
    "    conv_ksize = (2, 2)\n",
    "    conv_strides = (2, 2)\n",
    "    pool_ksize = (2, 2)\n",
    "    pool_strides = (2, 2)\n",
    "    \n",
    "    my_net = conv2d_maxpool(x_tensor, conv_num_outputs, conv_ksize, conv_strides, pool_ksize, pool_strides)\n",
    "    my_net = conv2d_maxpool(my_net, num_outputs + 20,conv_ksize, conv_strides, pool_ksize, pool_strides)\n",
    "    my_net = conv2d_maxpool(my_net, num_outputs + 30,conv_ksize, conv_strides, pool_ksize, pool_strides)\n",
    "    my_net = conv2d_maxpool(my_net, num_outputs + 35,conv_ksize, conv_strides, pool_ksize, pool_strides)\n",
    "    \n",
    "    print('my_net')\n",
    "    print(my_net)\n",
    "    \n",
    "    \n",
    "    \n",
    "    # TODO: Apply a Flatten Layer\n",
    "    # Function Definition from Above:\n",
    "    \n",
    "    my_net = flatten(my_net)\n",
    "    \n",
    "    \n",
    "    # TODO: Apply 1, 2, or 3 Fully Connected Layers\n",
    "    #    Play around with different number of outputs\n",
    "    # Function Definition from Above:\n",
    "    \n",
    "    num_outputs = 10\n",
    "    \n",
    "    my_net = fully_conn(my_net, 100)\n",
    "    my_net = tf.nn.dropout(my_net, keep_prob)\n",
    "    my_net = fully_conn(my_net, num_outputs)\n",
    "    \n",
    "    \n",
    "    # TODO: Apply an Output Layer\n",
    "    #    Set this to the number of classes\n",
    "    # Function Definition from Above:\n",
    "    \n",
    "    num_outputs = 10\n",
    "    \n",
    "    output_net = output(my_net, num_outputs)\n",
    "    \n",
    "    \n",
    "    # TODO: return output\n",
    "    return output_net\n",
    "\n",
    "\n",
    "\"\"\"\n",
    "DON'T MODIFY ANYTHING IN THIS CELL THAT IS BELOW THIS LINE\n",
    "\"\"\"\n",
    "\n",
    "##############################\n",
    "## Build the Neural Network ##\n",
    "##############################\n",
    "\n",
    "# Remove previous weights, bias, inputs, etc..\n",
    "tf.reset_default_graph()\n",
    "\n",
    "# Inputs\n",
    "x = neural_net_image_input((32, 32, 3))\n",
    "y = neural_net_label_input(10)\n",
    "keep_prob = neural_net_keep_prob_input()\n",
    "\n",
    "# Model\n",
    "logits = conv_net(x, keep_prob)\n",
    "\n",
    "# Name logits Tensor, so that is can be loaded from disk after training\n",
    "logits = tf.identity(logits, name='logits')\n",
    "\n",
    "# Loss and Optimizer\n",
    "cost = tf.reduce_mean(tf.nn.softmax_cross_entropy_with_logits(logits=logits, labels=y))\n",
    "optimizer = tf.train.AdamOptimizer().minimize(cost)\n",
    "\n",
    "# Accuracy\n",
    "correct_pred = tf.equal(tf.argmax(logits, 1), tf.argmax(y, 1))\n",
    "accuracy = tf.reduce_mean(tf.cast(correct_pred, tf.float32), name='accuracy')\n",
    "\n",
    "tests.test_conv_net(conv_net)"
   ]
  },
  {
   "cell_type": "markdown",
   "metadata": {},
   "source": [
    "## Train the Neural Network\n",
    "### Single Optimization\n",
    "Implement the function `train_neural_network` to do a single optimization.  The optimization should use `optimizer` to optimize in `session` with a `feed_dict` of the following:\n",
    "* `x` for image input\n",
    "* `y` for labels\n",
    "* `keep_prob` for keep probability for dropout\n",
    "\n",
    "This function will be called for each batch, so `tf.global_variables_initializer()` has already been called.\n",
    "\n",
    "Note: Nothing needs to be returned. This function is only optimizing the neural network."
   ]
  },
  {
   "cell_type": "code",
   "execution_count": 163,
   "metadata": {},
   "outputs": [
    {
     "name": "stdout",
     "output_type": "stream",
     "text": [
      "Tests Passed\n"
     ]
    }
   ],
   "source": [
    "def train_neural_network(session, optimizer, keep_probability, feature_batch, label_batch):\n",
    "    \"\"\"\n",
    "    Optimize the session on a batch of images and labels\n",
    "    : session: Current TensorFlow session\n",
    "    : optimizer: TensorFlow optimizer function\n",
    "    : keep_probability: keep probability\n",
    "    : feature_batch: Batch of Numpy image data\n",
    "    : label_batch: Batch of Numpy label data\n",
    "    \"\"\"\n",
    "    \n",
    "    #session already included\n",
    "    \n",
    "    feed_dict_train = {x: feature_batch, y: label_batch, keep_prob: keep_probability}\n",
    "\n",
    "    session.run(optimizer, feed_dict=feed_dict_train)\n",
    "\n",
    "\n",
    "\"\"\"\n",
    "DON'T MODIFY ANYTHING IN THIS CELL THAT IS BELOW THIS LINE\n",
    "\"\"\"\n",
    "tests.test_train_nn(train_neural_network)"
   ]
  },
  {
   "cell_type": "markdown",
   "metadata": {},
   "source": [
    "### Show Stats\n",
    "Implement the function `print_stats` to print loss and validation accuracy.  Use the global variables `valid_features` and `valid_labels` to calculate validation accuracy.  Use a keep probability of `1.0` to calculate the loss and validation accuracy."
   ]
  },
  {
   "cell_type": "code",
   "execution_count": 164,
   "metadata": {
    "collapsed": true
   },
   "outputs": [],
   "source": [
    "def print_stats(session, feature_batch, label_batch, cost, accuracy):\n",
    "    \"\"\"\n",
    "    Print information about loss and validation accuracy\n",
    "    : session: Current TensorFlow session\n",
    "    : feature_batch: Batch of Numpy image data\n",
    "    : label_batch: Batch of Numpy label data\n",
    "    : cost: TensorFlow cost function\n",
    "    : accuracy: TensorFlow accuracy function\n",
    "    \"\"\"\n",
    "    \n",
    "    #Help of guaravsharma531\n",
    "    \n",
    "    loss_net = sess.run(cost, feed_dict={x: feature_batch, y: label_batch, keep_prob: 1.})\n",
    "    validity = session.run(accuracy, feed_dict={\n",
    "        x: valid_features,\n",
    "        y: valid_labels,\n",
    "        keep_prob: 1.})\n",
    "\n",
    "    print('Loss: {0} Validation Accuracy: {1}'.format(loss_net, validity))"
   ]
  },
  {
   "cell_type": "markdown",
   "metadata": {},
   "source": [
    "### Hyperparameters\n",
    "Tune the following parameters:\n",
    "* Set `epochs` to the number of iterations until the network stops learning or start overfitting\n",
    "* Set `batch_size` to the highest number that your machine has memory for.  Most people set them to common sizes of memory:\n",
    " * 64\n",
    " * 128\n",
    " * 256\n",
    " * ...\n",
    "* Set `keep_probability` to the probability of keeping a node using dropout"
   ]
  },
  {
   "cell_type": "code",
   "execution_count": 165,
   "metadata": {
    "collapsed": true
   },
   "outputs": [],
   "source": [
    "# TODO: Tune Parameters\n",
    "epochs = 20\n",
    "batch_size = 128 \n",
    "keep_probability = 0.8"
   ]
  },
  {
   "cell_type": "markdown",
   "metadata": {},
   "source": [
    "### Train on a Single CIFAR-10 Batch\n",
    "Instead of training the neural network on all the CIFAR-10 batches of data, let's use a single batch. This should save time while you iterate on the model to get a better accuracy.  Once the final validation accuracy is 50% or greater, run the model on all the data in the next section."
   ]
  },
  {
   "cell_type": "code",
   "execution_count": 166,
   "metadata": {},
   "outputs": [
    {
     "name": "stdout",
     "output_type": "stream",
     "text": [
      "Checking the Training on a Single Batch...\n",
      "Epoch  1, CIFAR-10 Batch 1:  Loss: 2.3134689331054688 Validation Accuracy: 0.1607999950647354\n",
      "Epoch  2, CIFAR-10 Batch 1:  Loss: 2.281491756439209 Validation Accuracy: 0.2529999911785126\n",
      "Epoch  3, CIFAR-10 Batch 1:  Loss: 2.2479898929595947 Validation Accuracy: 0.27140000462532043\n",
      "Epoch  4, CIFAR-10 Batch 1:  Loss: 2.205033302307129 Validation Accuracy: 0.2802000045776367\n",
      "Epoch  5, CIFAR-10 Batch 1:  Loss: 2.1437957286834717 Validation Accuracy: 0.3034000098705292\n",
      "Epoch  6, CIFAR-10 Batch 1:  Loss: 2.0640416145324707 Validation Accuracy: 0.32659998536109924\n",
      "Epoch  7, CIFAR-10 Batch 1:  Loss: 1.998064398765564 Validation Accuracy: 0.3294000029563904\n",
      "Epoch  8, CIFAR-10 Batch 1:  Loss: 1.8978855609893799 Validation Accuracy: 0.33640000224113464\n",
      "Epoch  9, CIFAR-10 Batch 1:  Loss: 1.8395497798919678 Validation Accuracy: 0.3402000069618225\n",
      "Epoch 10, CIFAR-10 Batch 1:  Loss: 1.793264389038086 Validation Accuracy: 0.3495999872684479\n",
      "Epoch 11, CIFAR-10 Batch 1:  Loss: 1.7530124187469482 Validation Accuracy: 0.3587999939918518\n",
      "Epoch 12, CIFAR-10 Batch 1:  Loss: 1.7397077083587646 Validation Accuracy: 0.365200012922287\n",
      "Epoch 13, CIFAR-10 Batch 1:  Loss: 1.7018051147460938 Validation Accuracy: 0.36980000138282776\n",
      "Epoch 14, CIFAR-10 Batch 1:  Loss: 1.6863504648208618 Validation Accuracy: 0.375\n",
      "Epoch 15, CIFAR-10 Batch 1:  Loss: 1.6735321283340454 Validation Accuracy: 0.3774000108242035\n",
      "Epoch 16, CIFAR-10 Batch 1:  Loss: 1.6377029418945312 Validation Accuracy: 0.38119998574256897\n",
      "Epoch 17, CIFAR-10 Batch 1:  Loss: 1.6270509958267212 Validation Accuracy: 0.38359999656677246\n",
      "Epoch 18, CIFAR-10 Batch 1:  Loss: 1.6069227457046509 Validation Accuracy: 0.3853999972343445\n",
      "Epoch 19, CIFAR-10 Batch 1:  Loss: 1.6006749868392944 Validation Accuracy: 0.38679999113082886\n",
      "Epoch 20, CIFAR-10 Batch 1:  Loss: 1.5860384702682495 Validation Accuracy: 0.3944000005722046\n"
     ]
    }
   ],
   "source": [
    "\"\"\"\n",
    "DON'T MODIFY ANYTHING IN THIS CELL\n",
    "\"\"\"\n",
    "print('Checking the Training on a Single Batch...')\n",
    "with tf.Session() as sess:\n",
    "    # Initializing the variables\n",
    "    sess.run(tf.global_variables_initializer())\n",
    "    \n",
    "    # Training cycle\n",
    "    for epoch in range(epochs):\n",
    "        batch_i = 1\n",
    "        for batch_features, batch_labels in helper.load_preprocess_training_batch(batch_i, batch_size):\n",
    "            train_neural_network(sess, optimizer, keep_probability, batch_features, batch_labels)\n",
    "        print('Epoch {:>2}, CIFAR-10 Batch {}:  '.format(epoch + 1, batch_i), end='')\n",
    "        print_stats(sess, batch_features, batch_labels, cost, accuracy)"
   ]
  },
  {
   "cell_type": "markdown",
   "metadata": {},
   "source": [
    "### Fully Train the Model\n",
    "Now that you got a good accuracy with a single CIFAR-10 batch, try it with all five batches."
   ]
  },
  {
   "cell_type": "code",
   "execution_count": 156,
   "metadata": {},
   "outputs": [
    {
     "name": "stdout",
     "output_type": "stream",
     "text": [
      "Training...\n",
      "Epoch  1, CIFAR-10 Batch 1:  Loss: 2.181417465209961 Validation Accuracy: 0.19740000367164612\n",
      "Epoch  1, CIFAR-10 Batch 2:  Loss: 2.189974308013916 Validation Accuracy: 0.24379999935626984\n",
      "Epoch  1, CIFAR-10 Batch 3:  Loss: 1.9268993139266968 Validation Accuracy: 0.2386000007390976\n",
      "Epoch  1, CIFAR-10 Batch 4:  Loss: 1.8247512578964233 Validation Accuracy: 0.2971999943256378\n",
      "Epoch  1, CIFAR-10 Batch 5:  Loss: 1.9216591119766235 Validation Accuracy: 0.3068000078201294\n",
      "Epoch  2, CIFAR-10 Batch 1:  Loss: 1.9851529598236084 Validation Accuracy: 0.3416000008583069\n",
      "Epoch  2, CIFAR-10 Batch 2:  Loss: 1.9075549840927124 Validation Accuracy: 0.358599990606308\n",
      "Epoch  2, CIFAR-10 Batch 3:  Loss: 1.641889214515686 Validation Accuracy: 0.3553999960422516\n",
      "Epoch  2, CIFAR-10 Batch 4:  Loss: 1.6281509399414062 Validation Accuracy: 0.36959999799728394\n",
      "Epoch  2, CIFAR-10 Batch 5:  Loss: 1.755602240562439 Validation Accuracy: 0.3783999979496002\n",
      "Epoch  3, CIFAR-10 Batch 1:  Loss: 1.8705408573150635 Validation Accuracy: 0.39259999990463257\n",
      "Epoch  3, CIFAR-10 Batch 2:  Loss: 1.7648128271102905 Validation Accuracy: 0.40220001339912415\n",
      "Epoch  3, CIFAR-10 Batch 3:  Loss: 1.5510742664337158 Validation Accuracy: 0.40400001406669617\n",
      "Epoch  3, CIFAR-10 Batch 4:  Loss: 1.5114315748214722 Validation Accuracy: 0.40459999442100525\n",
      "Epoch  3, CIFAR-10 Batch 5:  Loss: 1.7329946756362915 Validation Accuracy: 0.41339999437332153\n",
      "Epoch  4, CIFAR-10 Batch 1:  Loss: 1.7850196361541748 Validation Accuracy: 0.42419999837875366\n",
      "Epoch  4, CIFAR-10 Batch 2:  Loss: 1.683861494064331 Validation Accuracy: 0.42179998755455017\n",
      "Epoch  4, CIFAR-10 Batch 3:  Loss: 1.4249019622802734 Validation Accuracy: 0.40700000524520874\n",
      "Epoch  4, CIFAR-10 Batch 4:  Loss: 1.4521501064300537 Validation Accuracy: 0.4309999942779541\n",
      "Epoch  4, CIFAR-10 Batch 5:  Loss: 1.6419662237167358 Validation Accuracy: 0.44519999623298645\n",
      "Epoch  5, CIFAR-10 Batch 1:  Loss: 1.7520473003387451 Validation Accuracy: 0.42820000648498535\n",
      "Epoch  5, CIFAR-10 Batch 2:  Loss: 1.623480200767517 Validation Accuracy: 0.43619999289512634\n",
      "Epoch  5, CIFAR-10 Batch 3:  Loss: 1.3230584859848022 Validation Accuracy: 0.44200000166893005\n",
      "Epoch  5, CIFAR-10 Batch 4:  Loss: 1.419861078262329 Validation Accuracy: 0.44339999556541443\n",
      "Epoch  5, CIFAR-10 Batch 5:  Loss: 1.586753249168396 Validation Accuracy: 0.45080000162124634\n",
      "Epoch  6, CIFAR-10 Batch 1:  Loss: 1.6645195484161377 Validation Accuracy: 0.4474000036716461\n",
      "Epoch  6, CIFAR-10 Batch 2:  Loss: 1.5198118686676025 Validation Accuracy: 0.4535999894142151\n",
      "Epoch  6, CIFAR-10 Batch 3:  Loss: 1.2599653005599976 Validation Accuracy: 0.44040000438690186\n",
      "Epoch  6, CIFAR-10 Batch 4:  Loss: 1.3770225048065186 Validation Accuracy: 0.45339998602867126\n",
      "Epoch  6, CIFAR-10 Batch 5:  Loss: 1.539273738861084 Validation Accuracy: 0.4668000042438507\n",
      "Epoch  7, CIFAR-10 Batch 1:  Loss: 1.6588895320892334 Validation Accuracy: 0.451200008392334\n",
      "Epoch  7, CIFAR-10 Batch 2:  Loss: 1.4596667289733887 Validation Accuracy: 0.45320001244544983\n",
      "Epoch  7, CIFAR-10 Batch 3:  Loss: 1.1709306240081787 Validation Accuracy: 0.4498000144958496\n",
      "Epoch  7, CIFAR-10 Batch 4:  Loss: 1.4045312404632568 Validation Accuracy: 0.460999995470047\n",
      "Epoch  7, CIFAR-10 Batch 5:  Loss: 1.504350185394287 Validation Accuracy: 0.47620001435279846\n",
      "Epoch  8, CIFAR-10 Batch 1:  Loss: 1.529362440109253 Validation Accuracy: 0.45719999074935913\n",
      "Epoch  8, CIFAR-10 Batch 2:  Loss: 1.4130456447601318 Validation Accuracy: 0.4657999873161316\n",
      "Epoch  8, CIFAR-10 Batch 3:  Loss: 1.1524296998977661 Validation Accuracy: 0.46239998936653137\n",
      "Epoch  8, CIFAR-10 Batch 4:  Loss: 1.3894113302230835 Validation Accuracy: 0.47859999537467957\n",
      "Epoch  8, CIFAR-10 Batch 5:  Loss: 1.4647564888000488 Validation Accuracy: 0.48159998655319214\n",
      "Epoch  9, CIFAR-10 Batch 1:  Loss: 1.5004175901412964 Validation Accuracy: 0.46639999747276306\n",
      "Epoch  9, CIFAR-10 Batch 2:  Loss: 1.369417428970337 Validation Accuracy: 0.4790000021457672\n",
      "Epoch  9, CIFAR-10 Batch 3:  Loss: 1.15305495262146 Validation Accuracy: 0.46140000224113464\n",
      "Epoch  9, CIFAR-10 Batch 4:  Loss: 1.3261003494262695 Validation Accuracy: 0.48820000886917114\n",
      "Epoch  9, CIFAR-10 Batch 5:  Loss: 1.4636962413787842 Validation Accuracy: 0.48559999465942383\n",
      "Epoch 10, CIFAR-10 Batch 1:  Loss: 1.407383680343628 Validation Accuracy: 0.4796000123023987\n",
      "Epoch 10, CIFAR-10 Batch 2:  Loss: 1.3342680931091309 Validation Accuracy: 0.48080000281333923\n",
      "Epoch 10, CIFAR-10 Batch 3:  Loss: 1.1357475519180298 Validation Accuracy: 0.475600004196167\n",
      "Epoch 10, CIFAR-10 Batch 4:  Loss: 1.2809892892837524 Validation Accuracy: 0.4875999987125397\n",
      "Epoch 10, CIFAR-10 Batch 5:  Loss: 1.4150586128234863 Validation Accuracy: 0.48660001158714294\n",
      "Epoch 11, CIFAR-10 Batch 1:  Loss: 1.3653056621551514 Validation Accuracy: 0.4864000082015991\n",
      "Epoch 11, CIFAR-10 Batch 2:  Loss: 1.3079416751861572 Validation Accuracy: 0.48579999804496765\n",
      "Epoch 11, CIFAR-10 Batch 3:  Loss: 1.1082632541656494 Validation Accuracy: 0.47999998927116394\n",
      "Epoch 11, CIFAR-10 Batch 4:  Loss: 1.2667937278747559 Validation Accuracy: 0.4844000041484833\n",
      "Epoch 11, CIFAR-10 Batch 5:  Loss: 1.3688459396362305 Validation Accuracy: 0.4821999967098236\n",
      "Epoch 12, CIFAR-10 Batch 1:  Loss: 1.3583370447158813 Validation Accuracy: 0.4864000082015991\n",
      "Epoch 12, CIFAR-10 Batch 2:  Loss: 1.333105206489563 Validation Accuracy: 0.49160000681877136\n",
      "Epoch 12, CIFAR-10 Batch 3:  Loss: 1.1005175113677979 Validation Accuracy: 0.4828000068664551\n",
      "Epoch 12, CIFAR-10 Batch 4:  Loss: 1.2095085382461548 Validation Accuracy: 0.5005999803543091\n",
      "Epoch 12, CIFAR-10 Batch 5:  Loss: 1.3931148052215576 Validation Accuracy: 0.4878000020980835\n",
      "Epoch 13, CIFAR-10 Batch 1:  Loss: 1.3399759531021118 Validation Accuracy: 0.4927999973297119\n",
      "Epoch 13, CIFAR-10 Batch 2:  Loss: 1.2942384481430054 Validation Accuracy: 0.4925999939441681\n",
      "Epoch 13, CIFAR-10 Batch 3:  Loss: 1.1182563304901123 Validation Accuracy: 0.49160000681877136\n",
      "Epoch 13, CIFAR-10 Batch 4:  Loss: 1.216766357421875 Validation Accuracy: 0.49540001153945923\n",
      "Epoch 13, CIFAR-10 Batch 5:  Loss: 1.3640892505645752 Validation Accuracy: 0.49160000681877136\n",
      "Epoch 14, CIFAR-10 Batch 1:  Loss: 1.3250271081924438 Validation Accuracy: 0.4943999946117401\n",
      "Epoch 14, CIFAR-10 Batch 2:  Loss: 1.3012346029281616 Validation Accuracy: 0.5008000135421753\n",
      "Epoch 14, CIFAR-10 Batch 3:  Loss: 1.0868562459945679 Validation Accuracy: 0.4909999966621399\n",
      "Epoch 14, CIFAR-10 Batch 4:  Loss: 1.2179373502731323 Validation Accuracy: 0.501800000667572\n",
      "Epoch 14, CIFAR-10 Batch 5:  Loss: 1.3286718130111694 Validation Accuracy: 0.49399998784065247\n",
      "Epoch 15, CIFAR-10 Batch 1:  Loss: 1.2626111507415771 Validation Accuracy: 0.4941999912261963\n",
      "Epoch 15, CIFAR-10 Batch 2:  Loss: 1.2702465057373047 Validation Accuracy: 0.5049999952316284\n",
      "Epoch 15, CIFAR-10 Batch 3:  Loss: 1.0826153755187988 Validation Accuracy: 0.4970000088214874\n",
      "Epoch 15, CIFAR-10 Batch 4:  Loss: 1.1409205198287964 Validation Accuracy: 0.5109999775886536\n",
      "Epoch 15, CIFAR-10 Batch 5:  Loss: 1.3107408285140991 Validation Accuracy: 0.49219998717308044\n",
      "Epoch 16, CIFAR-10 Batch 1:  Loss: 1.2773478031158447 Validation Accuracy: 0.4957999885082245\n",
      "Epoch 16, CIFAR-10 Batch 2:  Loss: 1.3051197528839111 Validation Accuracy: 0.5008000135421753\n",
      "Epoch 16, CIFAR-10 Batch 3:  Loss: 1.06108820438385 Validation Accuracy: 0.4973999857902527\n",
      "Epoch 16, CIFAR-10 Batch 4:  Loss: 1.1171190738677979 Validation Accuracy: 0.5138000249862671\n",
      "Epoch 16, CIFAR-10 Batch 5:  Loss: 1.2761180400848389 Validation Accuracy: 0.5019999742507935\n",
      "Epoch 17, CIFAR-10 Batch 1:  Loss: 1.2522623538970947 Validation Accuracy: 0.5016000270843506\n",
      "Epoch 17, CIFAR-10 Batch 2:  Loss: 1.297625184059143 Validation Accuracy: 0.504800021648407\n",
      "Epoch 17, CIFAR-10 Batch 3:  Loss: 1.022930383682251 Validation Accuracy: 0.4966000020503998\n",
      "Epoch 17, CIFAR-10 Batch 4:  Loss: 1.1026504039764404 Validation Accuracy: 0.5210000276565552\n",
      "Epoch 17, CIFAR-10 Batch 5:  Loss: 1.2950807809829712 Validation Accuracy: 0.49720001220703125\n",
      "Epoch 18, CIFAR-10 Batch 1:  Loss: 1.2119261026382446 Validation Accuracy: 0.5113999843597412\n",
      "Epoch 18, CIFAR-10 Batch 2:  Loss: 1.2826054096221924 Validation Accuracy: 0.5073999762535095\n"
     ]
    },
    {
     "name": "stdout",
     "output_type": "stream",
     "text": [
      "Epoch 18, CIFAR-10 Batch 3:  Loss: 1.0085231065750122 Validation Accuracy: 0.5023999810218811\n",
      "Epoch 18, CIFAR-10 Batch 4:  Loss: 1.082383155822754 Validation Accuracy: 0.5184000134468079\n",
      "Epoch 18, CIFAR-10 Batch 5:  Loss: 1.305802345275879 Validation Accuracy: 0.498199999332428\n",
      "Epoch 19, CIFAR-10 Batch 1:  Loss: 1.2129920721054077 Validation Accuracy: 0.5166000127792358\n",
      "Epoch 19, CIFAR-10 Batch 2:  Loss: 1.2817920446395874 Validation Accuracy: 0.5220000147819519\n",
      "Epoch 19, CIFAR-10 Batch 3:  Loss: 0.9904303550720215 Validation Accuracy: 0.506600022315979\n",
      "Epoch 19, CIFAR-10 Batch 4:  Loss: 1.0764310359954834 Validation Accuracy: 0.5189999938011169\n",
      "Epoch 19, CIFAR-10 Batch 5:  Loss: 1.280308485031128 Validation Accuracy: 0.49559998512268066\n",
      "Epoch 20, CIFAR-10 Batch 1:  Loss: 1.2081363201141357 Validation Accuracy: 0.5116000175476074\n",
      "Epoch 20, CIFAR-10 Batch 2:  Loss: 1.280583143234253 Validation Accuracy: 0.5210000276565552\n",
      "Epoch 20, CIFAR-10 Batch 3:  Loss: 0.97633296251297 Validation Accuracy: 0.5005999803543091\n",
      "Epoch 20, CIFAR-10 Batch 4:  Loss: 1.0666357278823853 Validation Accuracy: 0.5216000080108643\n",
      "Epoch 20, CIFAR-10 Batch 5:  Loss: 1.2624658346176147 Validation Accuracy: 0.5055999755859375\n"
     ]
    }
   ],
   "source": [
    "\"\"\"\n",
    "DON'T MODIFY ANYTHING IN THIS CELL\n",
    "\"\"\"\n",
    "save_model_path = './image_classification'\n",
    "\n",
    "print('Training...')\n",
    "with tf.Session() as sess:\n",
    "    # Initializing the variables\n",
    "    sess.run(tf.global_variables_initializer())\n",
    "    \n",
    "    # Training cycle\n",
    "    for epoch in range(epochs):\n",
    "        # Loop over all batches\n",
    "        n_batches = 5\n",
    "        for batch_i in range(1, n_batches + 1):\n",
    "            for batch_features, batch_labels in helper.load_preprocess_training_batch(batch_i, batch_size):\n",
    "                train_neural_network(sess, optimizer, keep_probability, batch_features, batch_labels)\n",
    "            print('Epoch {:>2}, CIFAR-10 Batch {}:  '.format(epoch + 1, batch_i), end='')\n",
    "            print_stats(sess, batch_features, batch_labels, cost, accuracy)\n",
    "            \n",
    "    # Save Model\n",
    "    saver = tf.train.Saver()\n",
    "    save_path = saver.save(sess, save_model_path)"
   ]
  },
  {
   "cell_type": "markdown",
   "metadata": {},
   "source": [
    "# Checkpoint\n",
    "The model has been saved to disk.\n",
    "## Test Model\n",
    "Test your model against the test dataset.  This will be your final accuracy. You should have an accuracy greater than 50%. If you don't, keep tweaking the model architecture and parameters."
   ]
  },
  {
   "cell_type": "code",
   "execution_count": 157,
   "metadata": {},
   "outputs": [
    {
     "name": "stdout",
     "output_type": "stream",
     "text": [
      "INFO:tensorflow:Restoring parameters from ./image_classification\n",
      "Testing Accuracy: 0.513943829113924\n",
      "\n"
     ]
    },
    {
     "data": {
      "image/png": "[encoded data removed]",
      "text/plain": [
       "<matplotlib.figure.Figure at 0x12580bfd0>"
      ]
     },
     "metadata": {
      "image/png": {
       "height": 319,
       "width": 355
      }
     },
     "output_type": "display_data"
    }
   ],
   "source": [
    "\"\"\"\n",
    "DON'T MODIFY ANYTHING IN THIS CELL\n",
    "\"\"\"\n",
    "%matplotlib inline\n",
    "%config InlineBackend.figure_format = 'retina'\n",
    "\n",
    "import tensorflow as tf\n",
    "import pickle\n",
    "import helper\n",
    "import random\n",
    "\n",
    "# Set batch size if not already set\n",
    "try:\n",
    "    if batch_size:\n",
    "        pass\n",
    "except NameError:\n",
    "    batch_size = 64\n",
    "\n",
    "save_model_path = './image_classification'\n",
    "n_samples = 4\n",
    "top_n_predictions = 3\n",
    "\n",
    "def test_model():\n",
    "    \"\"\"\n",
    "    Test the saved model against the test dataset\n",
    "    \"\"\"\n",
    "\n",
    "    test_features, test_labels = pickle.load(open('preprocess_test.p', mode='rb'))\n",
    "    loaded_graph = tf.Graph()\n",
    "\n",
    "    with tf.Session(graph=loaded_graph) as sess:\n",
    "        # Load model\n",
    "        loader = tf.train.import_meta_graph(save_model_path + '.meta')\n",
    "        loader.restore(sess, save_model_path)\n",
    "\n",
    "        # Get Tensors from loaded model\n",
    "        loaded_x = loaded_graph.get_tensor_by_name('x:0')\n",
    "        loaded_y = loaded_graph.get_tensor_by_name('y:0')\n",
    "        loaded_keep_prob = loaded_graph.get_tensor_by_name('keep_prob:0')\n",
    "        loaded_logits = loaded_graph.get_tensor_by_name('logits:0')\n",
    "        loaded_acc = loaded_graph.get_tensor_by_name('accuracy:0')\n",
    "        \n",
    "        # Get accuracy in batches for memory limitations\n",
    "        test_batch_acc_total = 0\n",
    "        test_batch_count = 0\n",
    "        \n",
    "        for test_feature_batch, test_label_batch in helper.batch_features_labels(test_features, test_labels, batch_size):\n",
    "            test_batch_acc_total += sess.run(\n",
    "                loaded_acc,\n",
    "                feed_dict={loaded_x: test_feature_batch, loaded_y: test_label_batch, loaded_keep_prob: 1.0})\n",
    "            test_batch_count += 1\n",
    "\n",
    "        print('Testing Accuracy: {}\\n'.format(test_batch_acc_total/test_batch_count))\n",
    "\n",
    "        # Print Random Samples\n",
    "        random_test_features, random_test_labels = tuple(zip(*random.sample(list(zip(test_features, test_labels)), n_samples)))\n",
    "        random_test_predictions = sess.run(\n",
    "            tf.nn.top_k(tf.nn.softmax(loaded_logits), top_n_predictions),\n",
    "            feed_dict={loaded_x: random_test_features, loaded_y: random_test_labels, loaded_keep_prob: 1.0})\n",
    "        helper.display_image_predictions(random_test_features, random_test_labels, random_test_predictions)\n",
    "\n",
    "\n",
    "test_model()"
   ]
  },
  {
   "cell_type": "markdown",
   "metadata": {},
   "source": [
    "## Why 50-80% Accuracy?\n",
    "You might be wondering why you can't get an accuracy any higher. First things first, 50% isn't bad for a simple CNN.  Pure guessing would get you 10% accuracy. However, you might notice people are getting scores [well above 80%](http://rodrigob.github.io/are_we_there_yet/build/classification_datasets_results.html#43494641522d3130).  That's because we haven't taught you all there is to know about neural networks. We still need to cover a few more techniques.\n",
    "## Submitting This Project\n",
    "When submitting this project, make sure to run all the cells before saving the notebook.  Save the notebook file as \"dlnd_image_classification.ipynb\" and save it as a HTML file under \"File\" -> \"Download as\".  Include the \"helper.py\" and \"problem_unittests.py\" files in your submission."
   ]
  }
 ],
 "metadata": {
  "kernelspec": {
   "display_name": "Python 3",
   "language": "python",
   "name": "python3"
  },
  "language_info": {
   "codemirror_mode": {
    "name": "ipython",
    "version": 3
   },
   "file_extension": ".py",
   "mimetype": "text/x-python",
   "name": "python",
   "nbconvert_exporter": "python",
   "pygments_lexer": "ipython3",
   "version": "3.6.0"
  }
 },
 "nbformat": 4,
 "nbformat_minor": 1
}
